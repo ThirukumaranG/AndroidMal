from sklearn.datasets import make_classification
from sklearn.model_selection import train_test_split
from sklearn.preprocessing import LabelEncoder
from sklearn.ensemble import RandomForestClassifier
from sklearn import metrics
from sklearn.metrics import accuracy_score, precision_score, recall_score,classification_report,confusion_matrix,cohen_kappa_score
import pandas as pd
import numpy as np
from sklearn import tree
import streamlit as st
from sklearn.svm import SVC, LinearSVC
from sklearn.naive_bayes import GaussianNB
from sklearn.neighbors import KNeighborsClassifier
df1 = pd.read_csv("dataset-features-categories.csv", encoding='utf8')
df2 = pd.read_csv("drebin-215-dataset-5560malware-9476-benign.csv")

pd.set_option('display.max_columns', None)
df1.head()
df1.shape
classes,count = np.unique(df2['class'],return_counts=True)
lbl_enc = LabelEncoder()
df2 = df2.replace(classes,lbl_enc.fit_transform(classes))

# Dataset contains special characters like ''?' and 'S'. Set them to NaN and use dropna() to remove them
df2=df2.replace('[?,S]',np.NaN,regex=True)
df2.dropna(inplace=True)
for c in df2.columns:
    df2[c] = pd.to_numeric(df2[c])
df2

train_x,test_x,train_y,test_y = train_test_split(df2[df2.columns[:len(df2.columns)-1]].to_numpy(),df2[df2.columns[-1]].to_numpy(),test_size = 0.2,shuffle=True)


data_num_corr = df2.corr()['class'][:-1]
golden_features_list_1 = data_num_corr[abs(data_num_corr) > 0.5].sort_values(ascending=False)
rdF=RandomForestClassifier(n_estimators=250, max_depth=50,random_state=45)
rdF.fit(train_x,train_y)
pred=rdF.predict(test_x)
cm=confusion_matrix(test_y, pred)

accuracy = accuracy_score(test_y,pred)
print("Random Forest Classifier")
print("Accuracy Score: "+ str(accuracy))
print("Precision: ", precision_score(
        test_y, pred, labels=None).round(2))
print("Recall: ", recall_score(test_y, pred, labels=None).round(2))
print(classification_report(test_y,pred, labels=None))

for i in range(3,15,3):
    
    neigh = KNeighborsClassifier(n_neighbors=i)
    neigh.fit(train_x, train_y)
    pred = neigh.predict(test_x)
    accuracy = accuracy_score(pred, test_y)
    print("k-neighbors {}".format(i))
    print("Accuracy: " + str(accuracy))
    print("Precision: ", precision_score(
        test_y, pred, labels=None).round(2))
    print("Recall: ", recall_score(test_y, pred, labels=None).round(2))
    print(classification_report(pred, test_y, labels=None))
    print("")
